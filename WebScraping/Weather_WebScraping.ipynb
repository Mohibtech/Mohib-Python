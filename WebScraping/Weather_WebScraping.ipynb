{
 "cells": [
  {
   "cell_type": "markdown",
   "metadata": {},
   "source": [
    "# Downloading weather data\n",
    "We will extracting information about local weather from National Weather Service website. The first step is to find the page we want to scrape. \n",
    "We'll extract weather information about downtown San Francisco from this page.\n",
    "[Weather Forecast](https://www.weather.gov/)\n"
   ]
  },
  {
   "cell_type": "markdown",
   "metadata": {},
   "source": [
    "## Weather Forecast Page Image\n",
    "![Weather Forecast Page](https://www.dataquest.io/blog/content/images/extended_forecast.png)\n",
    "As you can see from the image, the page has information about the extended forecast for the next week, including time of day, temperature, and a brief description of the conditions."
   ]
  },
  {
   "cell_type": "markdown",
   "metadata": {},
   "source": [
    "## Exploring page structure with Chrome DevTools\n",
    "The first thing we'll need to do is inspect the page using Chrome Devtools. \n",
    "You can start the developer tools in Chrome by clicking `View -> Developer -> Developer Tools`. You should end up with a panel at the bottom of the browser like what you see below. Make sure the Elements panel is highlighted.\n",
    "By right clicking on the page near where it says \"Extended Forecast\", then clicking \"Inspect\", we'll open up the tag that contains the text \"Extended Forecast\" in the elements panel:\n",
    "![Extended Forecast](https://www.dataquest.io/blog/content/images/div.png)"
   ]
  },
  {
   "cell_type": "markdown",
   "metadata": {},
   "source": [
    "# Extracting Weather Page\n",
    "If you click around on the console, and explore the div, you'll discover that each forecast item (like \"Tonight\", \"Thursday\", and \"Thursday Night\") is contained in a div with the class tombstone-container.\n",
    "\n",
    "We now know enough to download the page and start parsing it. In the below code, we:\n",
    "\n",
    "- Download the web page containing the forecast.\n",
    "- Create a BeautifulSoup class to parse the page.\n",
    "- Find the div with id seven-day-forecast, and assign to seven_day\n",
    "- Inside seven_day, find each individual forecast item.\n",
    "- Extract and print the first forecast item."
   ]
  },
  {
   "cell_type": "code",
   "execution_count": 3,
   "metadata": {},
   "outputs": [
    {
     "name": "stdout",
     "output_type": "stream",
     "text": [
      "<div class=\"tombstone-container\">\n",
      " <p class=\"period-name\">\n",
      "  This\n",
      "  <br/>\n",
      "  Afternoon\n",
      " </p>\n",
      " <p>\n",
      "  <img alt=\"This Afternoon: Sunny, with a high near 54. West wind around 10 mph. \" class=\"forecast-icon\" src=\"newimages/medium/skc.png\" title=\"This Afternoon: Sunny, with a high near 54. West wind around 10 mph. \"/>\n",
      " </p>\n",
      " <p class=\"short-desc\">\n",
      "  Sunny\n",
      " </p>\n",
      " <p class=\"temp temp-high\">\n",
      "  High: 54 °F\n",
      " </p>\n",
      "</div>\n"
     ]
    }
   ],
   "source": [
    "page = requests.get(\"http://forecast.weather.gov/MapClick.php?lat=37.7772&lon=-122.4168\")\n",
    "soup = BeautifulSoup(page.content, 'html.parser')\n",
    "\n",
    "seven_day = soup.find(id=\"seven-day-forecast\")\n",
    "forecast_items = seven_day.find_all(class_=\"tombstone-container\")\n",
    "\n",
    "tonight = forecast_items[0]\n",
    "\n",
    "print(tonight.prettify())"
   ]
  },
  {
   "cell_type": "markdown",
   "metadata": {},
   "source": [
    "## Extracting information from the page\n",
    "As you can see, inside the forecast item tonight is all the information we want. There are 4 pieces of information we can extract:\n",
    "\n",
    "- Name of forecast item — in this case, Tonight.\n",
    "- Description of conditions — this is stored in the title property of img.\n",
    "- A short description of the conditions — in this case, Mostly Clear.\n",
    "- The temperature low — in this case, 49 degrees.\n",
    "\n",
    "We'll extract name of forecast item, short description, and temperature first, since they're all similar:"
   ]
  },
  {
   "cell_type": "code",
   "execution_count": 4,
   "metadata": {},
   "outputs": [
    {
     "name": "stdout",
     "output_type": "stream",
     "text": [
      "ThisAfternoon\n",
      "Sunny\n",
      "High: 54 °F\n"
     ]
    }
   ],
   "source": [
    "period = tonight.find(class_=\"period-name\").get_text()\n",
    "short_desc = tonight.find(class_=\"short-desc\").get_text()\n",
    "temp = tonight.find(class_=\"temp\").get_text()\n",
    "\n",
    "print(period)\n",
    "print(short_desc)\n",
    "print(temp)"
   ]
  },
  {
   "cell_type": "markdown",
   "metadata": {},
   "source": [
    "Now, we can extract the title attribute from the img tag. To do this, we just treat the BeautifulSoup object like a dictionary, and pass in the attribute we want as a key:"
   ]
  },
  {
   "cell_type": "code",
   "execution_count": 5,
   "metadata": {},
   "outputs": [
    {
     "name": "stdout",
     "output_type": "stream",
     "text": [
      "This Afternoon: Sunny, with a high near 54. West wind around 10 mph. \n"
     ]
    }
   ],
   "source": [
    "img = tonight.find(\"img\")\n",
    "desc = img['title']\n",
    "\n",
    "print(desc)"
   ]
  },
  {
   "cell_type": "markdown",
   "metadata": {},
   "source": [
    "## Extracting all information from page\n",
    "Now that we know how to extract each individual piece of information, we can combine our knowledge with css selectors and list comprehensions to extract everything at once.\n",
    "\n",
    "In the below code, we:\n",
    "\n",
    "- Select all items with the class **`period-name`** inside an item with the class **`tombstone-container`** in **seven_day**.\n",
    "- Use a list comprehension to call the get_text method on each BeautifulSoup object."
   ]
  },
  {
   "cell_type": "code",
   "execution_count": 6,
   "metadata": {},
   "outputs": [
    {
     "data": {
      "text/plain": [
       "['ThisAfternoon',\n",
       " 'Tonight',\n",
       " 'Saturday',\n",
       " 'SaturdayNight',\n",
       " 'Sunday',\n",
       " 'SundayNight',\n",
       " 'Monday',\n",
       " 'MondayNight',\n",
       " 'Tuesday']"
      ]
     },
     "execution_count": 6,
     "metadata": {},
     "output_type": "execute_result"
    }
   ],
   "source": [
    "period_tags = seven_day.select(\".tombstone-container .period-name\")\n",
    "periods = [pt.get_text() for pt in period_tags]\n",
    "periods"
   ]
  },
  {
   "cell_type": "markdown",
   "metadata": {},
   "source": [
    "We got each of the period names, in order. We can apply the same technique to get the other 3 fields:"
   ]
  },
  {
   "cell_type": "code",
   "execution_count": 7,
   "metadata": {},
   "outputs": [
    {
     "name": "stdout",
     "output_type": "stream",
     "text": [
      "['Sunny', 'Mostly Clear', 'Partly Sunny', 'Mostly Cloudy', 'Mostly Cloudy', 'Chance Rain', 'Chance Rain', 'Rain Likely', 'Rain Likely']\n",
      "['High: 54 °F', 'Low: 45 °F', 'High: 55 °F', 'Low: 48 °F', 'High: 56 °F', 'Low: 50 °F', 'High: 58 °F', 'Low: 52 °F', 'High: 59 °F']\n",
      "['This Afternoon: Sunny, with a high near 54. West wind around 10 mph. ', 'Tonight: Mostly clear, with a low around 45. West wind around 7 mph. ', 'Saturday: Partly sunny, with a high near 55. West wind 6 to 11 mph. ', 'Saturday Night: Mostly cloudy, with a low around 48. West wind 5 to 8 mph becoming light and variable. ', 'Sunday: Mostly cloudy, with a high near 56. South southeast wind 7 to 11 mph becoming west southwest in the afternoon. ', 'Sunday Night: A 30 percent chance of rain.  Cloudy, with a low around 50. New precipitation amounts of less than a tenth of an inch possible. ', 'Monday: A 50 percent chance of rain.  Cloudy, with a high near 58.', 'Monday Night: Rain likely.  Cloudy, with a low around 52.', 'Tuesday: Rain likely.  Cloudy, with a high near 59.']\n"
     ]
    }
   ],
   "source": [
    "short_descs = [sd.get_text() for sd in seven_day.select(\".tombstone-container .short-desc\")]\n",
    "temps = [t.get_text() for t in seven_day.select(\".tombstone-container .temp\")]\n",
    "descs = [d[\"title\"] for d in seven_day.select(\".tombstone-container img\")]\n",
    "\n",
    "print(short_descs)\n",
    "print(temps)\n",
    "print(descs)"
   ]
  },
  {
   "cell_type": "markdown",
   "metadata": {},
   "source": [
    "## Combining our data into a Pandas Dataframe\n",
    "We can now combine the data into a Pandas DataFrame and analyze it. A DataFrame is an object that can store tabular data, making data analysis easy. \n",
    "In order to do this, we'll call the DataFrame class, and pass in each list of items that we have. We pass them in as part of a dictionary. Each dictionary key will become a column in the DataFrame, and each list will become the values in the column:"
   ]
  },
  {
   "cell_type": "code",
   "execution_count": 8,
   "metadata": {},
   "outputs": [
    {
     "data": {
      "text/html": [
       "<div>\n",
       "<style scoped>\n",
       "    .dataframe tbody tr th:only-of-type {\n",
       "        vertical-align: middle;\n",
       "    }\n",
       "\n",
       "    .dataframe tbody tr th {\n",
       "        vertical-align: top;\n",
       "    }\n",
       "\n",
       "    .dataframe thead th {\n",
       "        text-align: right;\n",
       "    }\n",
       "</style>\n",
       "<table border=\"1\" class=\"dataframe\">\n",
       "  <thead>\n",
       "    <tr style=\"text-align: right;\">\n",
       "      <th></th>\n",
       "      <th>period</th>\n",
       "      <th>short_desc</th>\n",
       "      <th>temp</th>\n",
       "      <th>desc</th>\n",
       "    </tr>\n",
       "  </thead>\n",
       "  <tbody>\n",
       "    <tr>\n",
       "      <th>0</th>\n",
       "      <td>ThisAfternoon</td>\n",
       "      <td>Sunny</td>\n",
       "      <td>High: 54 °F</td>\n",
       "      <td>This Afternoon: Sunny, with a high near 54. We...</td>\n",
       "    </tr>\n",
       "    <tr>\n",
       "      <th>1</th>\n",
       "      <td>Tonight</td>\n",
       "      <td>Mostly Clear</td>\n",
       "      <td>Low: 45 °F</td>\n",
       "      <td>Tonight: Mostly clear, with a low around 45. W...</td>\n",
       "    </tr>\n",
       "    <tr>\n",
       "      <th>2</th>\n",
       "      <td>Saturday</td>\n",
       "      <td>Partly Sunny</td>\n",
       "      <td>High: 55 °F</td>\n",
       "      <td>Saturday: Partly sunny, with a high near 55. W...</td>\n",
       "    </tr>\n",
       "    <tr>\n",
       "      <th>3</th>\n",
       "      <td>SaturdayNight</td>\n",
       "      <td>Mostly Cloudy</td>\n",
       "      <td>Low: 48 °F</td>\n",
       "      <td>Saturday Night: Mostly cloudy, with a low arou...</td>\n",
       "    </tr>\n",
       "    <tr>\n",
       "      <th>4</th>\n",
       "      <td>Sunday</td>\n",
       "      <td>Mostly Cloudy</td>\n",
       "      <td>High: 56 °F</td>\n",
       "      <td>Sunday: Mostly cloudy, with a high near 56. So...</td>\n",
       "    </tr>\n",
       "    <tr>\n",
       "      <th>5</th>\n",
       "      <td>SundayNight</td>\n",
       "      <td>Chance Rain</td>\n",
       "      <td>Low: 50 °F</td>\n",
       "      <td>Sunday Night: A 30 percent chance of rain.  Cl...</td>\n",
       "    </tr>\n",
       "    <tr>\n",
       "      <th>6</th>\n",
       "      <td>Monday</td>\n",
       "      <td>Chance Rain</td>\n",
       "      <td>High: 58 °F</td>\n",
       "      <td>Monday: A 50 percent chance of rain.  Cloudy, ...</td>\n",
       "    </tr>\n",
       "    <tr>\n",
       "      <th>7</th>\n",
       "      <td>MondayNight</td>\n",
       "      <td>Rain Likely</td>\n",
       "      <td>Low: 52 °F</td>\n",
       "      <td>Monday Night: Rain likely.  Cloudy, with a low...</td>\n",
       "    </tr>\n",
       "    <tr>\n",
       "      <th>8</th>\n",
       "      <td>Tuesday</td>\n",
       "      <td>Rain Likely</td>\n",
       "      <td>High: 59 °F</td>\n",
       "      <td>Tuesday: Rain likely.  Cloudy, with a high nea...</td>\n",
       "    </tr>\n",
       "  </tbody>\n",
       "</table>\n",
       "</div>"
      ],
      "text/plain": [
       "          period     short_desc         temp  \\\n",
       "0  ThisAfternoon          Sunny  High: 54 °F   \n",
       "1        Tonight   Mostly Clear   Low: 45 °F   \n",
       "2       Saturday   Partly Sunny  High: 55 °F   \n",
       "3  SaturdayNight  Mostly Cloudy   Low: 48 °F   \n",
       "4         Sunday  Mostly Cloudy  High: 56 °F   \n",
       "5    SundayNight    Chance Rain   Low: 50 °F   \n",
       "6         Monday    Chance Rain  High: 58 °F   \n",
       "7    MondayNight    Rain Likely   Low: 52 °F   \n",
       "8        Tuesday    Rain Likely  High: 59 °F   \n",
       "\n",
       "                                                desc  \n",
       "0  This Afternoon: Sunny, with a high near 54. We...  \n",
       "1  Tonight: Mostly clear, with a low around 45. W...  \n",
       "2  Saturday: Partly sunny, with a high near 55. W...  \n",
       "3  Saturday Night: Mostly cloudy, with a low arou...  \n",
       "4  Sunday: Mostly cloudy, with a high near 56. So...  \n",
       "5  Sunday Night: A 30 percent chance of rain.  Cl...  \n",
       "6  Monday: A 50 percent chance of rain.  Cloudy, ...  \n",
       "7  Monday Night: Rain likely.  Cloudy, with a low...  \n",
       "8  Tuesday: Rain likely.  Cloudy, with a high nea...  "
      ]
     },
     "execution_count": 8,
     "metadata": {},
     "output_type": "execute_result"
    }
   ],
   "source": [
    "import pandas as pd\n",
    "weather = pd.DataFrame({\n",
    "        \"period\": periods, \n",
    "        \"short_desc\": short_descs, \n",
    "        \"temp\": temps, \n",
    "        \"desc\":descs\n",
    "    })\n",
    "weather"
   ]
  },
  {
   "cell_type": "markdown",
   "metadata": {},
   "source": [
    "We can now do some analysis on the data. For example, we can use a regular expression and the Series.str.extract method to pull out the numeric temperature values:"
   ]
  },
  {
   "cell_type": "code",
   "execution_count": 9,
   "metadata": {},
   "outputs": [
    {
     "data": {
      "text/plain": [
       "0    54\n",
       "1    45\n",
       "2    55\n",
       "3    48\n",
       "4    56\n",
       "5    50\n",
       "6    58\n",
       "7    52\n",
       "8    59\n",
       "Name: temp_num, dtype: object"
      ]
     },
     "execution_count": 9,
     "metadata": {},
     "output_type": "execute_result"
    }
   ],
   "source": [
    "temp_nums = weather[\"temp\"].str.extract(\"(?P<temp_num>\\d+)\", expand=False)\n",
    "weather[\"temp_num\"] = temp_nums.astype('int')\n",
    "temp_nums"
   ]
  },
  {
   "cell_type": "markdown",
   "metadata": {},
   "source": [
    "We could then find the mean of all the high and low temperatures:"
   ]
  },
  {
   "cell_type": "code",
   "execution_count": 10,
   "metadata": {},
   "outputs": [
    {
     "data": {
      "text/plain": [
       "53.0"
      ]
     },
     "execution_count": 10,
     "metadata": {},
     "output_type": "execute_result"
    }
   ],
   "source": [
    "weather[\"temp_num\"].mean()"
   ]
  },
  {
   "cell_type": "markdown",
   "metadata": {},
   "source": [
    "We could also only select the rows that happen at night:"
   ]
  },
  {
   "cell_type": "code",
   "execution_count": 11,
   "metadata": {},
   "outputs": [
    {
     "data": {
      "text/plain": [
       "0    False\n",
       "1     True\n",
       "2    False\n",
       "3     True\n",
       "4    False\n",
       "5     True\n",
       "6    False\n",
       "7     True\n",
       "8    False\n",
       "Name: temp, dtype: bool"
      ]
     },
     "execution_count": 11,
     "metadata": {},
     "output_type": "execute_result"
    }
   ],
   "source": [
    "is_night = weather[\"temp\"].str.contains(\"Low\")\n",
    "weather[\"is_night\"] = is_night\n",
    "is_night"
   ]
  },
  {
   "cell_type": "code",
   "execution_count": 12,
   "metadata": {},
   "outputs": [
    {
     "data": {
      "text/html": [
       "<div>\n",
       "<style scoped>\n",
       "    .dataframe tbody tr th:only-of-type {\n",
       "        vertical-align: middle;\n",
       "    }\n",
       "\n",
       "    .dataframe tbody tr th {\n",
       "        vertical-align: top;\n",
       "    }\n",
       "\n",
       "    .dataframe thead th {\n",
       "        text-align: right;\n",
       "    }\n",
       "</style>\n",
       "<table border=\"1\" class=\"dataframe\">\n",
       "  <thead>\n",
       "    <tr style=\"text-align: right;\">\n",
       "      <th></th>\n",
       "      <th>period</th>\n",
       "      <th>short_desc</th>\n",
       "      <th>temp</th>\n",
       "      <th>desc</th>\n",
       "      <th>temp_num</th>\n",
       "      <th>is_night</th>\n",
       "    </tr>\n",
       "  </thead>\n",
       "  <tbody>\n",
       "    <tr>\n",
       "      <th>1</th>\n",
       "      <td>Tonight</td>\n",
       "      <td>Mostly Clear</td>\n",
       "      <td>Low: 45 °F</td>\n",
       "      <td>Tonight: Mostly clear, with a low around 45. W...</td>\n",
       "      <td>45</td>\n",
       "      <td>True</td>\n",
       "    </tr>\n",
       "    <tr>\n",
       "      <th>3</th>\n",
       "      <td>SaturdayNight</td>\n",
       "      <td>Mostly Cloudy</td>\n",
       "      <td>Low: 48 °F</td>\n",
       "      <td>Saturday Night: Mostly cloudy, with a low arou...</td>\n",
       "      <td>48</td>\n",
       "      <td>True</td>\n",
       "    </tr>\n",
       "    <tr>\n",
       "      <th>5</th>\n",
       "      <td>SundayNight</td>\n",
       "      <td>Chance Rain</td>\n",
       "      <td>Low: 50 °F</td>\n",
       "      <td>Sunday Night: A 30 percent chance of rain.  Cl...</td>\n",
       "      <td>50</td>\n",
       "      <td>True</td>\n",
       "    </tr>\n",
       "    <tr>\n",
       "      <th>7</th>\n",
       "      <td>MondayNight</td>\n",
       "      <td>Rain Likely</td>\n",
       "      <td>Low: 52 °F</td>\n",
       "      <td>Monday Night: Rain likely.  Cloudy, with a low...</td>\n",
       "      <td>52</td>\n",
       "      <td>True</td>\n",
       "    </tr>\n",
       "  </tbody>\n",
       "</table>\n",
       "</div>"
      ],
      "text/plain": [
       "          period     short_desc        temp  \\\n",
       "1        Tonight   Mostly Clear  Low: 45 °F   \n",
       "3  SaturdayNight  Mostly Cloudy  Low: 48 °F   \n",
       "5    SundayNight    Chance Rain  Low: 50 °F   \n",
       "7    MondayNight    Rain Likely  Low: 52 °F   \n",
       "\n",
       "                                                desc  temp_num  is_night  \n",
       "1  Tonight: Mostly clear, with a low around 45. W...        45      True  \n",
       "3  Saturday Night: Mostly cloudy, with a low arou...        48      True  \n",
       "5  Sunday Night: A 30 percent chance of rain.  Cl...        50      True  \n",
       "7  Monday Night: Rain likely.  Cloudy, with a low...        52      True  "
      ]
     },
     "execution_count": 12,
     "metadata": {},
     "output_type": "execute_result"
    }
   ],
   "source": [
    "weather[is_night]"
   ]
  },
  {
   "cell_type": "markdown",
   "metadata": {},
   "source": [
    "## Next Steps\n",
    "You should now have a good understanding of how to scrape web pages and extract data. A good next step would be to pick a site and try some web scraping on your own. Some good examples of data to scrape are:\n",
    "\n",
    "- News articles\n",
    "- Sports scores\n",
    "- Weather forecasts\n",
    "- Stock prices\n",
    "- Online retailer prices"
   ]
  },
  {
   "cell_type": "markdown",
   "metadata": {},
   "source": [
    "# Credits\n",
    "## Dataquest\n",
    "[Python Web Scraping Tutorial using BeautifulSoup](https://www.dataquest.io/blog/web-scraping-tutorial-python/)"
   ]
  },
  {
   "cell_type": "code",
   "execution_count": null,
   "metadata": {},
   "outputs": [],
   "source": []
  }
 ],
 "metadata": {
  "kernelspec": {
   "display_name": "Python 3",
   "language": "python",
   "name": "python3"
  },
  "language_info": {
   "codemirror_mode": {
    "name": "ipython",
    "version": 3
   },
   "file_extension": ".py",
   "mimetype": "text/x-python",
   "name": "python",
   "nbconvert_exporter": "python",
   "pygments_lexer": "ipython3",
   "version": "3.7.1"
  }
 },
 "nbformat": 4,
 "nbformat_minor": 2
}
